{
 "cells": [
  {
   "cell_type": "code",
   "execution_count": 1,
   "id": "5ac6b3a6-b447-4b2d-a2d7-866dda98a32b",
   "metadata": {},
   "outputs": [],
   "source": [
    "## Importing necessary packages\n",
    "from sklearn import datasets\n",
    "from sklearn import preprocessing as pre\n",
    "from sklearn.model_selection import train_test_split\n",
    "\n",
    "import matplotlib.pyplot as plt\n",
    "import numpy as np\n",
    "from qiskit import Aer"
   ]
  },
  {
   "cell_type": "markdown",
   "id": "506a893e-5d25-4fd8-97ae-dde23e2a90c0",
   "metadata": {},
   "source": [
    "## Task 3\n",
    "\n",
    "To classify the iris dataset using a QSVM based on a quantum kernel proposed using a parametric circuit\n",
    "\n",
    "### Iris Dataset\n",
    "\n",
    "**Features**: Each data-point contains 4 features --> Sepal Length, Sepal Width, Petal Length and Petal Width.  \n",
    "**Labels**: Entire data can be classified into 3 labels --> Setosa, Versicolour, and Virginica labeled as y = 0,1,2 respectively \n",
    "\n",
    "### Pre-processing\n",
    "We first divide the data-set into:  \n",
    "1. **Training Data** (0.6) : For training the inital parametric circuit, using which we propose the kernel \n",
    "2. **Validation Data** (0.20) : For testing accuracy of parametric circuit \n",
    "3. **Test Data** (0.20) : For testing accuracy of QSVM after constructing kernel based on above data\n"
   ]
  },
  {
   "cell_type": "code",
   "execution_count": 2,
   "id": "4d1240c1-3842-4029-9392-ff4d8f8f12b9",
   "metadata": {},
   "outputs": [],
   "source": [
    "# importing iris dataset from sklearn\n",
    "iris = datasets.load_iris()\n",
    "\"\"\"The dataset consists of 3 different types of irises’ (Setosa, Versicolour, and Virginica) labeled as y = 0,1,2\n",
    "The associated features are: Sepal Length, Sepal Width, Petal Length and Petal Width.\n",
    "\"\"\"\n",
    "\n",
    "X = iris.data   ## Features (4 dimensional)\n",
    "y = iris.target ## Labels\n",
    "\n",
    "## Dividing data into train, validation(for finding good kernels), test data (evaluating perfomance of QSVM)\n",
    "train_ratio = 0.6\n",
    "validation_ratio = 0.20\n",
    "test_ratio = 0.20\n",
    "\n",
    "X_train, X_test, y_train, y_test = train_test_split(X, y, test_size=1 - train_ratio,random_state=42)\n",
    "X_val, X_test, y_val, y_test = train_test_split(X_test, y_test, test_size=test_ratio/(test_ratio + validation_ratio),random_state=62) \n"
   ]
  },
  {
   "cell_type": "markdown",
   "id": "4ba4ffbe-eb07-4813-9c7b-187ca3ec87c1",
   "metadata": {},
   "source": [
    "Next the data is rescaled as $x\\rightarrow \\frac{x -\\bar{X}}{\\sigma_x}$ for each of the features. We further multiply it by $\\pi/3$. Rescaling the range of data this way, emperically gave good results"
   ]
  },
  {
   "cell_type": "code",
   "execution_count": 3,
   "id": "7e2f8383-a2b7-47a6-b3c5-4b6980880426",
   "metadata": {},
   "outputs": [],
   "source": [
    "## Preprocessing and scaling data\n",
    "X_train, X_val, X_test = pre.scale(X_train,axis = 0 ),pre.scale(X_val,axis = 0 ), pre.scale(X_test,axis = 0 )\n",
    "X_train, X_val, X_test = np.pi * X_train/3, np.pi * X_val/3, np.pi * X_test/3"
   ]
  },
  {
   "cell_type": "markdown",
   "id": "f8b298f4-ff29-4886-9732-78ddd3fc7660",
   "metadata": {},
   "source": [
    "## Choosing kernel from paramteric circuit\n",
    "\n",
    "In order to choose an appropriate kernel, a parametric circuit was trained on X_train data and validated over X_val data to obtain maximum accuracy. The parametric circuit used is taken from [this paper](https://arxiv.org/pdf/2007.14044) which reported a high classification accuracy. I uploaded the feature data twice on the circuit and use a total of 8 parameters for classification.\n"
   ]
  },
  {
   "cell_type": "markdown",
   "id": "7c9895e0-2919-465f-8ed1-c61d842fde5c",
   "metadata": {},
   "source": [
    "Here is an image showing the circuit we used.  \n",
    "$\\omega_i$ correspond to the encoded features and $\\theta_i$ denote the learning parameters. The encoded features are uploaded twice for better performance.    \n",
    "<img src=\"vqc_circuit.png\"  width=\"60%\">\n",
    "\n",
    "The shown gates are a compact notation defined as follows:  \n",
    "<img src=\"notation.png\"  width=\"30%\">  \n",
    "where the $s_x$ denotes an $\\sqrt{X}$ gate. Together with $Z(\\theta)$ and $CZ$ it forms an universal gate set.\n",
    "\n",
    "###### Figures taken from https://arxiv.org/pdf/2007.14044\n",
    "\n",
    "\n"
   ]
  },
  {
   "cell_type": "markdown",
   "id": "85398822-bf71-420c-90d8-3c445b050f85",
   "metadata": {},
   "source": [
    "\n",
    "### Mapping circuit output to data-labels\n",
    "I consider the following mapping from states to data-labels:\n",
    "$$\n",
    "00 \\rightarrow 0\\\\\n",
    "01 \\rightarrow 1\\\\\n",
    "10 \\rightarrow 2\\\\\n",
    "$$\n",
    "while the state 11 is not mapped to any label"
   ]
  },
  {
   "cell_type": "code",
   "execution_count": 4,
   "id": "004f5127-e15d-42b8-95d7-3c04cd9c3114",
   "metadata": {},
   "outputs": [],
   "source": [
    "from qiskit import QuantumCircuit,QuantumRegister,ClassicalRegister\n",
    "\n",
    "def vqc_circuit(x,theta,features = 4,qubits = 2):\n",
    "    \"\"\"\n",
    "    Creates the VQC circuit containing features x, and learning parameters theta\n",
    "    \n",
    "    Input:\n",
    "        x: (4,) array containing features for a data point\n",
    "        theta: (8,) array containing learning parameters\n",
    "        features = No. of features in x\n",
    "        qubits: No. of qubits used in circuit\n",
    "        \n",
    "    Return:\n",
    "        QuantumCircuit executing the classification \n",
    "    \"\"\"\n",
    "    \n",
    "    qr = QuantumRegister(2)\n",
    "    cr = ClassicalRegister(2)\n",
    "    qc = QuantumCircuit(qr,cr)\n",
    "\n",
    "    ## Implements the circuit shown above\n",
    "    theta_ind=0\n",
    "    for _ in range(int(len(theta)/4)):\n",
    "        \n",
    "        ## Encodes the features\n",
    "        feautre_ind=0\n",
    "        for _ in range(int(features/2)):\n",
    "            qc.sx(range(qubits))\n",
    "            for j in range(qubits):\n",
    "                qc.rz(x[feautre_ind],j)\n",
    "                feautre_ind+=1\n",
    "            qc.sx(range(qubits))   \n",
    "\n",
    "            qc.cz(0,1)\n",
    "            \n",
    "            ## Applies the learning parameters\n",
    "            qc.sx(range(qubits))\n",
    "            for j in range(qubits):\n",
    "                qc.rz(theta[theta_ind],j)\n",
    "                theta_ind+=1\n",
    "            qc.sx(range(qubits))  \n",
    "            qc.cz(0,1) \n",
    "\n",
    "        \n",
    "        qc.barrier()\n",
    "        \n",
    "    qc.measure(qr,cr)\n",
    "    \n",
    "    return qc\n"
   ]
  },
  {
   "cell_type": "markdown",
   "id": "c9596080-7e76-464d-b81a-4187ce62a457",
   "metadata": {},
   "source": [
    "## Loss function for training\n",
    "\n",
    "For each evaluation, the parameters $\\theta$ are updated to minimize the following loss function,\n",
    "$$\n",
    "L({\\theta}) = \\frac{1}{N}\\sum_j^N \\Big(\\sum_{i = 0}^4 p_i C_i\\Big),\\quad \\text{where } C_i =   \\left\\{\n",
    "\\begin{array}{ll}\n",
    "      0 & y_{pred} = y_{exact} \\\\\n",
    "      1 & y_{pred} \\neq y_{exact} \\\\\n",
    "\\end{array} \n",
    "\\right.  \n",
    "$$\n",
    "\n",
    "The functions below are used measuring this loss function"
   ]
  },
  {
   "cell_type": "code",
   "execution_count": 5,
   "id": "18a71e6d-9047-48a0-9553-6d23618c83fe",
   "metadata": {},
   "outputs": [],
   "source": [
    "def loss_train(x,y,theta, shots=1024):\n",
    "    \"\"\"\n",
    "    Measures loss function for each training data point\n",
    "    Input: \n",
    "        x: Features of data point\n",
    "        y: Label of datapoint (0,1,2)\n",
    "        theta: Learning parameters\n",
    "        shots: No. of shots of quantum circuit\n",
    "        \n",
    "    Returns:\n",
    "        Loss function value for each datapoint\n",
    "    \"\"\"\n",
    "    \n",
    "    qc = vqc_circuit(x,theta)\n",
    "    \n",
    "    ## Choosing backend for training\n",
    "    backend = Aer.get_backend('aer_simulator')\n",
    "    counts = backend.run(qc, seed_simulator=10,shots=shots).result().get_counts()\n",
    "    \n",
    "    ## Measuring expectation on each training datapoint\n",
    "    exp = 0\n",
    "    for state in counts:\n",
    "        y_eval = int(state,2)\n",
    "        if y_eval != y:\n",
    "            exp += counts[state]/shots\n",
    "    return exp\n",
    "\n",
    "                \n",
    "def average_loss_train(theta,shots = 1024):\n",
    "    \"\"\"\n",
    "    Average loss function over entire training batch\n",
    "    Input:\n",
    "        theta: Learning parameters\n",
    "        shots: No. of shots of quantum circuit\n",
    "        \n",
    "    Return:\n",
    "        Average loss function over entire training data\n",
    "        \n",
    "    \"\"\"\n",
    "    \n",
    "    error = 0\n",
    "    samples = len(X_train)\n",
    "    \n",
    "    ## Averaging over all training datapoints\n",
    "    for ind in range(len(X_train)):\n",
    "        error += loss_train(X_train[ind],y_train[ind],theta,shots)\n",
    "\n",
    "    return error/samples\n"
   ]
  },
  {
   "cell_type": "markdown",
   "id": "6d0913c5-8489-4de2-866e-4dd2e4369b69",
   "metadata": {},
   "source": [
    "## Validation\n",
    "\n",
    "To measure accuracy of prediction on validation set, we apply the trained parametrized circuit on X_val data and take the most probable output as our prediction. Success of model is defined as number of correct predictions over the X_val dataset.  \n",
    "The functions below are used for measuring this accuracy"
   ]
  },
  {
   "cell_type": "code",
   "execution_count": 6,
   "id": "2e3a5226-654a-430e-831a-b240292d5b7b",
   "metadata": {},
   "outputs": [],
   "source": [
    "def loss_test(x,y,theta, shots=1024):\n",
    "    \"\"\"\n",
    "    Measures if prediction is successful or not\n",
    "    Input: \n",
    "        x: Features of data point\n",
    "        y: Label of datapoint (0,1,2)\n",
    "        theta: Learning parameters\n",
    "        shots: No. of shots of quantum circuit\n",
    "        \n",
    "    Returns:\n",
    "        0 if correct prediction, 1 if wrong\n",
    "    \"\"\"\n",
    "    \n",
    "    qc = vqc_circuit(x,theta)\n",
    "    \n",
    "    ## Choosing backend\n",
    "    backend = Aer.get_backend('aer_simulator')\n",
    "    counts = backend.run(qc, seed_simulator=10,shots=shots).result().get_counts()\n",
    "    \n",
    "    ## Finding most-likely state from classifier\n",
    "    max_count = 0\n",
    "    final_state = \"00\"\n",
    "    for state in counts:\n",
    "        if counts[state]>max_count:\n",
    "            max_count = counts[state]\n",
    "            final_state = state\n",
    "    \n",
    "    y_eval = int(final_state,2)\n",
    "    \n",
    "    ## Checking if most-likely prediction is correct\n",
    "    if y_eval!= y:\n",
    "        return 1\n",
    "    else: \n",
    "        return 0\n",
    "\n",
    "def average_success(X,y, theta,shots = 1024):\n",
    "    \"\"\"\n",
    "    Percentage of success over validation set\n",
    "    \n",
    "    Input:\n",
    "        X: Features of validation dataset \n",
    "        y: Labels of validation dataset\n",
    "        theta: Learning parameters\n",
    "        shots: No. of shots of quantum circuit\n",
    "        \n",
    "    Return:\n",
    "       Percentage of correct predictions       \n",
    "    \"\"\"    \n",
    "\n",
    "    samples = len(X)\n",
    "    error = 0\n",
    "\n",
    "    for ind in range(samples):\n",
    "        error += loss_test(X[ind],y[ind],theta,shots)\n",
    "\n",
    "    return 1 - error/samples"
   ]
  },
  {
   "cell_type": "markdown",
   "id": "dd69324d-42ce-41f7-aff8-f0ae0f2d5a5e",
   "metadata": {},
   "source": [
    "## Training\n",
    "\n",
    "The parameters $\\theta$ are trained to reduce the loss function using optimizer COBYLA. Since, the process is stochastic the final output might not always reach the global minima. For this reason, I tried several runs of this optimization method, with random inital guesses for $\\theta$, until the accuracy on validation data-set is over 90%"
   ]
  },
  {
   "cell_type": "code",
   "execution_count": 10,
   "id": "4ce9b000-1a6f-4de7-aa0c-7595ec0942b6",
   "metadata": {},
   "outputs": [
    {
     "name": "stdout",
     "output_type": "stream",
     "text": [
      "0.8333333333333334\n",
      "0.8666666666666667\n",
      "0.9333333333333333\n"
     ]
    }
   ],
   "source": [
    "## Optimizing theta parameters using minimize function from scipy.optimize using COBYLA\n",
    "\n",
    "\"\"\" This cell can often take a long time to run. So I found one set of optimal theta and stored it for future use\"\"\"\n",
    "from scipy.optimize import minimize\n",
    "\n",
    "## keeps track of accuracy on validation set\n",
    "success = 0\n",
    "\n",
    "## Runs until success is over 0.9\n",
    "while True:\n",
    "    ## Starting with random theta values for each run\n",
    "    theta_init = np.random.uniform(low = 0, high = 2*np.pi,size = 8)\n",
    "    res_VQC = minimize(average_loss_train,theta_init,method='COBYLA',tol = 1e-5)\n",
    "    \n",
    "    ## Checks is success value has increased and stores that\n",
    "    if average_success(X_val,y_val,res_VQC.x) > success:\n",
    "        success = average_success(X_val,y_val,res_VQC.x)\n",
    "        theta = res_VQC.x\n",
    "        print(success)\n",
    "    \n",
    "    ## Checks if success is over 0.9 and ends the loop\n",
    "    if success > 0.9:\n",
    "        break"
   ]
  },
  {
   "cell_type": "code",
   "execution_count": 11,
   "id": "f5e05131-f48f-4b0f-8264-878febb116ce",
   "metadata": {},
   "outputs": [
    {
     "data": {
      "text/plain": [
       " message: Optimization terminated successfully.\n",
       " success: True\n",
       "  status: 1\n",
       "     fun: 0.3373046875\n",
       "       x: [ 5.648e+00  4.306e+00  2.076e+00  1.890e+00  1.234e+00\n",
       "            4.516e+00  1.659e+00  6.981e+00]\n",
       "    nfev: 204\n",
       "   maxcv: 0.0"
      ]
     },
     "execution_count": 11,
     "metadata": {},
     "output_type": "execute_result"
    }
   ],
   "source": [
    "## Optimzation result after accuracy > 90% is achieved\n",
    "res_VQC"
   ]
  },
  {
   "cell_type": "code",
   "execution_count": 8,
   "id": "b91ecdec-56d2-405f-9709-cd2bb769ef24",
   "metadata": {},
   "outputs": [],
   "source": [
    "## Saving optimum theta values for further use\n",
    "theta = np.array([ 5.648e+00,  4.306e+00,  2.076e+00,  1.890e+00,  1.234e+00, 4.516e+00,  1.659e+00,  6.981e+00])\n",
    "# np.save(\"opt_theta\",theta)"
   ]
  },
  {
   "cell_type": "markdown",
   "id": "29663502-32ac-4b76-a85a-3bca39badbfd",
   "metadata": {},
   "source": [
    "## Quantum Kernel\n",
    "In order to create the kernel matrix, I use the $UU^\\dagger$ test. The method works as follows:\n",
    "1. We create a Unitary operator W(x) encoding the information of data features, giving the encoded state $|\\psi(x)\\rangle = W(x)|0^{\\otimes n}\\rangle$\n",
    "2. Kernel elements between two encoded states can be expanded as,\n",
    "\\begin{align}\n",
    "K(x,y) &= |\\langle \\psi(x)|\\psi(y) \\rangle|^2\\\\\n",
    "&= |\\langle ^{\\otimes n}0|W(x) W^\\dagger(y)|0^{\\otimes n}\\rangle|^2\n",
    "\\end{align}\n",
    "\n",
    "Hence, we can initialize at $|0^{\\otimes n}\\rangle$ state, apply the two unitaries and finally measure the probability of being in $|0^{\\otimes n}\\rangle$ state to get kernel elements\n"
   ]
  },
  {
   "cell_type": "markdown",
   "id": "f3a773fa-d6ba-4ea9-8eef-bac3e2e92e8d",
   "metadata": {},
   "source": [
    "The below functions are used to implement the unitary and its hermitian conjugate"
   ]
  },
  {
   "cell_type": "code",
   "execution_count": 9,
   "id": "1410e693-8d10-47a8-86cb-3b10eb731565",
   "metadata": {},
   "outputs": [],
   "source": [
    "def U(qc,x,theta):\n",
    "    \n",
    "    \"\"\"\n",
    "    Used for implementing the quantum kernel. Same circuit as vqc_circuit except final measurement is removed\n",
    "    \n",
    "    Input:\n",
    "        qc: Initialized circuit\n",
    "        x: Encoded data features\n",
    "        theta: Learnt parameters from trained parametric circuit\n",
    "    \"\"\"\n",
    "    \n",
    "    features = len(x)\n",
    "    qubits = 2\n",
    "    \n",
    "    theta_ind=0\n",
    "    for _ in range(int(len(theta)/4)):\n",
    "        feautre_ind=0\n",
    "        \n",
    "        for _ in range(int(features/2)):\n",
    "            qc.sx(range(qubits))\n",
    "            for j in range(qubits):\n",
    "                qc.rz(x[feautre_ind],j)\n",
    "                feautre_ind+=1\n",
    "            qc.sx(range(qubits))   \n",
    "\n",
    "            qc.cz(0,1)\n",
    "\n",
    "            qc.sx(range(qubits))\n",
    "            for j in range(qubits):\n",
    "                qc.rz(theta[theta_ind],j)\n",
    "                theta_ind+=1\n",
    "            qc.sx(range(qubits))  \n",
    "            qc.cz(0,1) \n",
    "        \n",
    "        \n",
    "def U_dag(qc,x,theta):\n",
    "    \n",
    "    \"\"\"\n",
    "    Used for implementing the quantum kernel. Complex conjugate of circuit from U()\n",
    "    \n",
    "    Input:\n",
    "        qc: Circuit after U() has been applied \n",
    "        x:  Encoded data features\n",
    "        theta: Learnt parameters from trained parametric circuit\n",
    "    \"\"\"\n",
    "\n",
    "        \n",
    "    features = len(x)\n",
    "    qubits = 2\n",
    "    \n",
    "    theta_ind=0\n",
    "    for _ in range(int(len(theta)/4)):\n",
    "        feautre_ind=0\n",
    "        \n",
    "        for _ in range(int(features/2)):\n",
    "            \n",
    "            qc.cz(0,1)\n",
    "            qc.rx(-np.pi/2, range(qubits))\n",
    "            for j in reversed(range(qubits)):\n",
    "                qc.rz(-theta[7-theta_ind],j)\n",
    "                theta_ind+=1\n",
    "            qc.rx(-np.pi/2, range(qubits))\n",
    "             \n",
    "            qc.cz(0,1)\n",
    "            qc.rx(-np.pi/2, range(qubits))\n",
    "            for j in reversed(range(qubits)):\n",
    "                qc.rz(-x[3-feautre_ind],j)\n",
    "                feautre_ind+=1\n",
    "            qc.rx(-np.pi/2, range(qubits))  \n",
    "\n",
    "        qc.barrier()\n",
    "        \n",
    "\n"
   ]
  },
  {
   "cell_type": "markdown",
   "id": "f2cb27b9-1f2c-424b-9d37-ac3ef7830139",
   "metadata": {},
   "source": [
    "The below functions are used to create the Kernal matrix from the above two circuit functions"
   ]
  },
  {
   "cell_type": "code",
   "execution_count": 14,
   "id": "37cd618c-201b-4c9d-b53a-63229c03788f",
   "metadata": {},
   "outputs": [],
   "source": [
    "## Imports for using quantum hardware if necessary\n",
    "from qiskit_ibm_provider import least_busy\n",
    "from qiskit_ibm_provider import IBMProvider\n",
    "from qiskit import execute\n",
    "provider = IBMProvider()\n",
    "\n",
    "def K_ij(x,y,shots = 1024, simulator = True):\n",
    "    \n",
    "    \"\"\"\n",
    "    Calculates individual kernel matrix elements \n",
    "    Input:\n",
    "        x,y: Data points between which kernel matrix is being calculated\n",
    "        shots: No. of shots used\n",
    "        simulator: True if simulator needs to be used, False if quantum hardware needs to be used\n",
    "    Returns:\n",
    "        Matrix element of kernel matrix\n",
    "    \"\"\"\n",
    "    \n",
    "    qr = QuantumRegister(2)\n",
    "    cr = ClassicalRegister(2)\n",
    "    qc = QuantumCircuit(qr,cr)\n",
    "    \n",
    "    ## Applying U and U_dagger\n",
    "    U(qc,x,theta)\n",
    "    U_dag(qc,y,theta)\n",
    "    qc.measure(qr,cr)\n",
    "    \n",
    "    ## Checking simulator or hardware\n",
    "    if simulator:\n",
    "        backend = Aer.get_backend('aer_simulator')\n",
    "        counts = backend.run(qc, seed_simulator=10,shots=1024).result().get_counts()\n",
    "        \n",
    "    else:\n",
    "        ibmq_back = least_busy(provider.backends(simulator=False, filters=lambda b: b.configuration().n_qubits >= 5))\n",
    "        counts = execute(qc, shots = 1024,backend = ibmq_back).result().get_counts()\n",
    "        print(\"\")\n",
    "        \n",
    "    ## Finding probability of 00 state to get kernel element (as described in above text)\n",
    "    prob = 0\n",
    "    if \"00\" in counts:\n",
    "        prob = counts[\"00\"]/shots\n",
    "    \n",
    "    return prob\n",
    "\n",
    "def kernel(X,Y,shots = 1024, simulator =  True):\n",
    "    \"\"\"\n",
    "    Measures full Kernel matrix using U() and U_dag() fucntions\n",
    "    Input: \n",
    "        X,Y: Dataset on which matrix elements are calculated\n",
    "        shots: No. of shots of circuit\n",
    "        simulator: True if simulator needs to be used, False if quantum hardware needs to be used\n",
    "    Return:\n",
    "        Full Kernel matrix\n",
    "    \n",
    "    \"\"\"\n",
    "    dim1 = len(X)\n",
    "    dim2 = len(Y)\n",
    "    output = np.zeros((dim1,dim2))\n",
    "    \n",
    "    for i in range(dim1):\n",
    "        for j in range(dim2):\n",
    "            output[i,j] = K_ij(X[i],Y[j],shots,simulator)\n",
    "                \n",
    "    return output"
   ]
  },
  {
   "cell_type": "code",
   "execution_count": 56,
   "id": "2a650769-1b81-4da2-87df-4cbfd072389b",
   "metadata": {},
   "outputs": [],
   "source": [
    "\"\"\" This cell can be used to obtain kernel matrix on real hardware. However, I avoided it due incredibly long queues\"\"\"\n",
    "# matrix = kernel(X_train,X_train,simulator = False)\n",
    "# import matplotlib.pyplot as plt\n",
    "# plt.imshow(np.asmatrix(matrix), interpolation='nearest', origin='upper', cmap='bone_r')"
   ]
  },
  {
   "cell_type": "markdown",
   "id": "d4a9669b-ee2a-48c7-9ab8-994ce96cb863",
   "metadata": {},
   "source": [
    "Below we show the kernel matrix obtained from the simulator. The same can be obtained from quantum hardware by changing to **simulator** argument in Kernel() function to False "
   ]
  },
  {
   "cell_type": "code",
   "execution_count": null,
   "id": "d98cb356-3ab7-46c4-8cac-b1668ad82fe2",
   "metadata": {},
   "outputs": [],
   "source": [
    "import matplotlib.pyplot as plt\n",
    "kernel_simul = kernel(X_train,X_train,simulator = True)"
   ]
  },
  {
   "cell_type": "code",
   "execution_count": 18,
   "id": "a8f9bf20-aa3b-4d13-bb6f-15b7102edb7a",
   "metadata": {},
   "outputs": [
    {
     "data": {
      "image/png": "[encoded data removed]",
      "text/plain": [
       "<Figure size 640x480 with 2 Axes>"
      ]
     },
     "metadata": {},
     "output_type": "display_data"
    }
   ],
   "source": [
    "im = plt.imshow(kernel_simul)\n",
    "plt.colorbar(im)\n",
    "plt.title(\"Kernel (Simulator)\")\n",
    "plt.show()"
   ]
  },
  {
   "cell_type": "markdown",
   "id": "f7d30cc1-e545-4c8e-bde7-5055b7d0cd2d",
   "metadata": {},
   "source": [
    "## Classification using One vs Rest Strategy\n",
    "Next I use SVC method from sklearn to apply SVM using our quantum kernel using \"One vs Rest\" strategy.  \n",
    "For a multi-class classifier, using Kernel method, SVC applies the classification n_class number of times. For each turn,  \n",
    "1. It divide the data into one vs rest of the classes (label 0 for one class, label 1 for all other classes)\n",
    "2. Finds probability of data belonging to our chosen class (label 0).\n",
    "\n",
    "After running this procedure for all classes, probabilities of data belonging to each class is obtained. Finally, the class with maximum probability is chosen as prediction."
   ]
  },
  {
   "cell_type": "code",
   "execution_count": 19,
   "id": "5f1c6370-52c6-4f46-9a51-333311ff6ca3",
   "metadata": {},
   "outputs": [],
   "source": [
    "from sklearn.svm import SVC\n",
    "\n",
    "## Classifying used SVM with one vs rest strategy\n",
    "svc_sklrn = SVC(kernel= kernel,decision_function_shape='ovr',probability = True)\n",
    "svc_sklrn = svc_sklrn.fit(X_train, y_train)"
   ]
  },
  {
   "cell_type": "markdown",
   "id": "c9e92d83-64d0-4445-a8c0-bb21454a3b82",
   "metadata": {},
   "source": [
    "### Probabilities of belonging to each class\n",
    "Since I used one vs rest strategy, I can obtain the probabilities of data belonging to each class. The below diagram shows those probabilities over test dataset"
   ]
  },
  {
   "cell_type": "code",
   "execution_count": 25,
   "id": "9d0e27eb-28e4-4185-8120-aaa1668d8540",
   "metadata": {},
   "outputs": [],
   "source": [
    "prob_sklrn = svc_sklrn.predict_proba(X_test)"
   ]
  },
  {
   "cell_type": "code",
   "execution_count": 50,
   "id": "54b89b33-1172-45b6-8a8c-9d468b8ad336",
   "metadata": {},
   "outputs": [
    {
     "data": {
      "image/png": "[encoded data removed]",
      "text/plain": [
       "<Figure size 2000x700 with 1 Axes>"
      ]
     },
     "execution_count": 50,
     "metadata": {},
     "output_type": "execute_result"
    }
   ],
   "source": [
    "from qiskit.visualization import plot_histogram\n",
    "\n",
    "plot_histogram([dict([ (\"X\" + str(i), prob_sklrn[i,0]) for i in range(len(prob_sklrn))]),dict([(\"X\" + str(i), prob_sklrn[i,1]) for i in range(len(prob_sklrn))  ]), dict([ (\"X\" + str(i), prob_sklrn[i,2]) for i in range(len(prob_sklrn))])],\n",
    "               sort = \"asc\",figsize= (20,7), legend= ['0', '1','2'],bar_labels=False, title= \"Prediction Probabilities\")\n"
   ]
  },
  {
   "cell_type": "markdown",
   "id": "f674599c-c033-42b3-88e9-c4cce78dee48",
   "metadata": {},
   "source": [
    "### Accuracy\n",
    "We find an accuracy of 93.3333% using our QSVM"
   ]
  },
  {
   "cell_type": "code",
   "execution_count": 51,
   "id": "44bb43af-e4c1-4079-bfa7-922c723c54c8",
   "metadata": {},
   "outputs": [
    {
     "name": "stdout",
     "output_type": "stream",
     "text": [
      "Prediction accuracy is: 93.33333333333333%.\n"
     ]
    }
   ],
   "source": [
    "## Gives prediction on test data\n",
    "prediction = svc_sklrn.predict(X_test)\n",
    "\n",
    "## Measures accuracy of prediction by QSVM\n",
    "prediction_sklrn = [ prediction[i]==y_test[i] for i in range(len(y_test))]\n",
    "acc_sklrn = prediction_sklrn.count(True) / len(y_test) * 100\n",
    "print(f\"Prediction accuracy is: {acc_sklrn}%.\") "
   ]
  },
  {
   "cell_type": "markdown",
   "id": "0dd10444-8f41-4655-97a3-ddffd4b02228",
   "metadata": {},
   "source": [
    "### Incorrect Predictions\n",
    "Two incorrect predictions occur in cases when probability difference between most likely answer and second most-likely answer is < 0.025"
   ]
  },
  {
   "cell_type": "code",
   "execution_count": 54,
   "id": "c84693e1-6020-4a60-89e8-999e635e2c53",
   "metadata": {},
   "outputs": [
    {
     "name": "stdout",
     "output_type": "stream",
     "text": [
      "(array([16, 18]),)\n"
     ]
    }
   ],
   "source": [
    "## Index of wrong predictions\n",
    "print(np.where(np.array(prediction_sklrn)==False))"
   ]
  },
  {
   "cell_type": "markdown",
   "id": "26803d69-f6a4-40c2-94df-9ac78f0b0830",
   "metadata": {},
   "source": [
    "### Confusion Matrix\n",
    "The confusion matrix shows number of datapoints that have been correctly or incorrectly classified and the labels where it is incorrectly classified. The $i,j$-th element shows number of data-points whose predicted label is **i** and correct label is **j**. In short, row header (on the left) show predicted labels, column header(on the top) show actual labels"
   ]
  },
  {
   "cell_type": "code",
   "execution_count": 66,
   "id": "8e9746b5-8296-4b95-9a4b-9d28a36c8326",
   "metadata": {},
   "outputs": [
    {
     "name": "stdout",
     "output_type": "stream",
     "text": [
      "╒═════════════╤══════════╤═══════════════╤═════════════╕\n",
      "│             │   Setosa │   Versicolour │   Virginica │\n",
      "╞═════════════╪══════════╪═══════════════╪═════════════╡\n",
      "│ Setosa      │       10 │             0 │           0 │\n",
      "├─────────────┼──────────┼───────────────┼─────────────┤\n",
      "│ Versicolour │        0 │             9 │           0 │\n",
      "├─────────────┼──────────┼───────────────┼─────────────┤\n",
      "│ Virginica   │        0 │             2 │           9 │\n",
      "╘═════════════╧══════════╧═══════════════╧═════════════╛\n"
     ]
    }
   ],
   "source": [
    "from tabulate import tabulate\n",
    "from sklearn.metrics import confusion_matrix as cm\n",
    "\n",
    "confuse = list(cm(y_test,prediction))\n",
    "\n",
    "header = ['', 'Setosa', 'Versicolour', 'Virginica']\n",
    "confuse.insert(0,header)\n",
    "for i in range(1,4):\n",
    "    confuse[i] = list(confuse[i])\n",
    "    confuse[i].insert(0,header[i])\n",
    "\n",
    "print(tabulate(confuse, headers='firstrow', tablefmt='fancy_grid'))"
   ]
  },
  {
   "cell_type": "markdown",
   "id": "5ced8c89-e091-417a-9988-6f3d6867628f",
   "metadata": {},
   "source": [
    "## Final Discussion"
   ]
  },
  {
   "cell_type": "markdown",
   "id": "0c3b24d3-8930-495d-b214-bcf3c7ce6dd6",
   "metadata": {},
   "source": [
    "Accuracy of 93% was achieved using this quantum kernel. 2 false predictions occured on the test data-set where difference between most-likely and second most-likely class was less than 0.025. The confusion matrix above shows both those errors occured when actual class was \"Versicolour\" but prediction class was \"Virginica\". \n",
    "Possible future directions:\n",
    "1. I avoided using actual quantum hardware since I was facing incredibly long wait times. However, the code can be changed to run on actual device by changing the **simulator** argument in Kernel() function to False. There might be further necessity of symmetrizing the Kernel matrix by SPAM Twirling during circuit executions to reduce systematic errors.\n",
    "2. Since we only have 3 labels, I ignored the state 11. We could make the procedure more effiecient by using a smaller subspace i.e, only the symmetric states spanned by, $|00\\rangle, |11\\rangle, \\frac{|01\\rangle + |10\\rangle}{\\sqrt{2}}$.One way of achieving this is by applying all the gates symmetrically on both qubits and mapping those states to appropriate labels. However, I only managed to get accuracy upto 76% by that method, using both 4 and 8 learning parameters, and hence didnt include it here."
   ]
  }
 ],
 "metadata": {
  "kernelspec": {
   "display_name": "qosf-env",
   "language": "python",
   "name": "qosf_env"
  },
  "language_info": {
   "codemirror_mode": {
    "name": "ipython",
    "version": 3
   },
   "file_extension": ".py",
   "mimetype": "text/x-python",
   "name": "python",
   "nbconvert_exporter": "python",
   "pygments_lexer": "ipython3",
   "version": "3.9.16"
  }
 },
 "nbformat": 4,
 "nbformat_minor": 5
}
